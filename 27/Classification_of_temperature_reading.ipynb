{
 "cells": [
  {
   "cell_type": "code",
   "execution_count": 1,
   "id": "engaging-action",
   "metadata": {},
   "outputs": [
    {
     "name": "stderr",
     "output_type": "stream",
     "text": [
      "f:\\python-3.6\\lib\\site-packages\\numpy\\_distributor_init.py:32: UserWarning: loaded more than 1 DLL from .libs:\n",
      "f:\\python-3.6\\lib\\site-packages\\numpy\\.libs\\libopenblas.PYQHXLVVQ7VESDPUVUADXEVJOBGHJPAY.gfortran-win_amd64.dll\n",
      "f:\\python-3.6\\lib\\site-packages\\numpy\\.libs\\libopenblas.WCDJNK7YVMPZQ2ME2ZZHJJRJ3JIKNDB7.gfortran-win_amd64.dll\n",
      "  stacklevel=1)\n"
     ]
    }
   ],
   "source": [
    "import numpy as np # linear algebra\n",
    "import pandas as pd # data processing, CSV file I/O (e.g. pd.read_csv)\n",
    "import matplotlib.pyplot as plt\n",
    "import seaborn as sns"
   ]
  },
  {
   "cell_type": "code",
   "execution_count": 2,
   "id": "further-breakfast",
   "metadata": {},
   "outputs": [
    {
     "data": {
      "text/html": [
       "<div>\n",
       "<style scoped>\n",
       "    .dataframe tbody tr th:only-of-type {\n",
       "        vertical-align: middle;\n",
       "    }\n",
       "\n",
       "    .dataframe tbody tr th {\n",
       "        vertical-align: top;\n",
       "    }\n",
       "\n",
       "    .dataframe thead th {\n",
       "        text-align: right;\n",
       "    }\n",
       "</style>\n",
       "<table border=\"1\" class=\"dataframe\">\n",
       "  <thead>\n",
       "    <tr style=\"text-align: right;\">\n",
       "      <th></th>\n",
       "      <th>id</th>\n",
       "      <th>room_id/id</th>\n",
       "      <th>noted_date</th>\n",
       "      <th>temp</th>\n",
       "      <th>out/in</th>\n",
       "    </tr>\n",
       "  </thead>\n",
       "  <tbody>\n",
       "    <tr>\n",
       "      <th>0</th>\n",
       "      <td>__export__.temp_log_196134_bd201015</td>\n",
       "      <td>Room Admin</td>\n",
       "      <td>08-12-2018 09:30</td>\n",
       "      <td>29</td>\n",
       "      <td>In</td>\n",
       "    </tr>\n",
       "    <tr>\n",
       "      <th>1</th>\n",
       "      <td>__export__.temp_log_196131_7bca51bc</td>\n",
       "      <td>Room Admin</td>\n",
       "      <td>08-12-2018 09:30</td>\n",
       "      <td>29</td>\n",
       "      <td>In</td>\n",
       "    </tr>\n",
       "    <tr>\n",
       "      <th>2</th>\n",
       "      <td>__export__.temp_log_196127_522915e3</td>\n",
       "      <td>Room Admin</td>\n",
       "      <td>08-12-2018 09:29</td>\n",
       "      <td>41</td>\n",
       "      <td>Out</td>\n",
       "    </tr>\n",
       "    <tr>\n",
       "      <th>3</th>\n",
       "      <td>__export__.temp_log_196128_be0919cf</td>\n",
       "      <td>Room Admin</td>\n",
       "      <td>08-12-2018 09:29</td>\n",
       "      <td>41</td>\n",
       "      <td>Out</td>\n",
       "    </tr>\n",
       "    <tr>\n",
       "      <th>4</th>\n",
       "      <td>__export__.temp_log_196126_d30b72fb</td>\n",
       "      <td>Room Admin</td>\n",
       "      <td>08-12-2018 09:29</td>\n",
       "      <td>31</td>\n",
       "      <td>In</td>\n",
       "    </tr>\n",
       "  </tbody>\n",
       "</table>\n",
       "</div>"
      ],
      "text/plain": [
       "                                    id  room_id/id        noted_date  temp  \\\n",
       "0  __export__.temp_log_196134_bd201015  Room Admin  08-12-2018 09:30    29   \n",
       "1  __export__.temp_log_196131_7bca51bc  Room Admin  08-12-2018 09:30    29   \n",
       "2  __export__.temp_log_196127_522915e3  Room Admin  08-12-2018 09:29    41   \n",
       "3  __export__.temp_log_196128_be0919cf  Room Admin  08-12-2018 09:29    41   \n",
       "4  __export__.temp_log_196126_d30b72fb  Room Admin  08-12-2018 09:29    31   \n",
       "\n",
       "  out/in  \n",
       "0     In  \n",
       "1     In  \n",
       "2    Out  \n",
       "3    Out  \n",
       "4     In  "
      ]
     },
     "execution_count": 2,
     "metadata": {},
     "output_type": "execute_result"
    }
   ],
   "source": [
    "# Reading the csv file\n",
    "df = pd.read_csv(\"IOT-temp.csv\")\n",
    "# Printing the first 5 entries in the Dataframe\n",
    "df.head()"
   ]
  },
  {
   "cell_type": "code",
   "execution_count": 3,
   "id": "surprised-equation",
   "metadata": {},
   "outputs": [
    {
     "data": {
      "text/plain": [
       "(97606, 5)"
      ]
     },
     "execution_count": 3,
     "metadata": {},
     "output_type": "execute_result"
    }
   ],
   "source": [
    "# Getting the number of rows and columns\n",
    "df.shape"
   ]
  },
  {
   "cell_type": "code",
   "execution_count": 4,
   "id": "junior-double",
   "metadata": {},
   "outputs": [
    {
     "name": "stdout",
     "output_type": "stream",
     "text": [
      "<class 'pandas.core.frame.DataFrame'>\n",
      "RangeIndex: 97606 entries, 0 to 97605\n",
      "Data columns (total 5 columns):\n",
      " #   Column      Non-Null Count  Dtype \n",
      "---  ------      --------------  ----- \n",
      " 0   id          97606 non-null  object\n",
      " 1   room_id/id  97606 non-null  object\n",
      " 2   noted_date  97606 non-null  object\n",
      " 3   temp        97606 non-null  int64 \n",
      " 4   out/in      97606 non-null  object\n",
      "dtypes: int64(1), object(4)\n",
      "memory usage: 3.7+ MB\n"
     ]
    }
   ],
   "source": [
    "# Information regarding the dataset\n",
    "df.info()"
   ]
  },
  {
   "cell_type": "code",
   "execution_count": 5,
   "id": "wrapped-cache",
   "metadata": {},
   "outputs": [
    {
     "name": "stdout",
     "output_type": "stream",
     "text": [
      "97605\n"
     ]
    }
   ],
   "source": [
    "# Getting the unique values from the id columns\n",
    "unique_id = df['id'].unique()\n",
    "print(len(unique_id))"
   ]
  },
  {
   "cell_type": "code",
   "execution_count": 6,
   "id": "broke-astronomy",
   "metadata": {},
   "outputs": [
    {
     "name": "stdout",
     "output_type": "stream",
     "text": [
      "['Room Admin']\n"
     ]
    }
   ],
   "source": [
    "unique_room_id = df['room_id/id'].unique()\n",
    "print(unique_room_id)"
   ]
  },
  {
   "cell_type": "code",
   "execution_count": 7,
   "id": "irish-carter",
   "metadata": {},
   "outputs": [
    {
     "data": {
      "text/html": [
       "<div>\n",
       "<style scoped>\n",
       "    .dataframe tbody tr th:only-of-type {\n",
       "        vertical-align: middle;\n",
       "    }\n",
       "\n",
       "    .dataframe tbody tr th {\n",
       "        vertical-align: top;\n",
       "    }\n",
       "\n",
       "    .dataframe thead th {\n",
       "        text-align: right;\n",
       "    }\n",
       "</style>\n",
       "<table border=\"1\" class=\"dataframe\">\n",
       "  <thead>\n",
       "    <tr style=\"text-align: right;\">\n",
       "      <th></th>\n",
       "      <th>temp</th>\n",
       "    </tr>\n",
       "  </thead>\n",
       "  <tbody>\n",
       "    <tr>\n",
       "      <th>count</th>\n",
       "      <td>97606.000000</td>\n",
       "    </tr>\n",
       "    <tr>\n",
       "      <th>mean</th>\n",
       "      <td>35.053931</td>\n",
       "    </tr>\n",
       "    <tr>\n",
       "      <th>std</th>\n",
       "      <td>5.699825</td>\n",
       "    </tr>\n",
       "    <tr>\n",
       "      <th>min</th>\n",
       "      <td>21.000000</td>\n",
       "    </tr>\n",
       "    <tr>\n",
       "      <th>25%</th>\n",
       "      <td>30.000000</td>\n",
       "    </tr>\n",
       "    <tr>\n",
       "      <th>50%</th>\n",
       "      <td>35.000000</td>\n",
       "    </tr>\n",
       "    <tr>\n",
       "      <th>75%</th>\n",
       "      <td>40.000000</td>\n",
       "    </tr>\n",
       "    <tr>\n",
       "      <th>max</th>\n",
       "      <td>51.000000</td>\n",
       "    </tr>\n",
       "  </tbody>\n",
       "</table>\n",
       "</div>"
      ],
      "text/plain": [
       "               temp\n",
       "count  97606.000000\n",
       "mean      35.053931\n",
       "std        5.699825\n",
       "min       21.000000\n",
       "25%       30.000000\n",
       "50%       35.000000\n",
       "75%       40.000000\n",
       "max       51.000000"
      ]
     },
     "execution_count": 7,
     "metadata": {},
     "output_type": "execute_result"
    }
   ],
   "source": [
    "df.describe()"
   ]
  },
  {
   "cell_type": "code",
   "execution_count": 8,
   "id": "distributed-phase",
   "metadata": {},
   "outputs": [
    {
     "data": {
      "text/html": [
       "<div>\n",
       "<style scoped>\n",
       "    .dataframe tbody tr th:only-of-type {\n",
       "        vertical-align: middle;\n",
       "    }\n",
       "\n",
       "    .dataframe tbody tr th {\n",
       "        vertical-align: top;\n",
       "    }\n",
       "\n",
       "    .dataframe thead th {\n",
       "        text-align: right;\n",
       "    }\n",
       "</style>\n",
       "<table border=\"1\" class=\"dataframe\">\n",
       "  <thead>\n",
       "    <tr style=\"text-align: right;\">\n",
       "      <th></th>\n",
       "      <th>temp</th>\n",
       "      <th>out/in</th>\n",
       "    </tr>\n",
       "  </thead>\n",
       "  <tbody>\n",
       "    <tr>\n",
       "      <th>0</th>\n",
       "      <td>29</td>\n",
       "      <td>In</td>\n",
       "    </tr>\n",
       "    <tr>\n",
       "      <th>1</th>\n",
       "      <td>29</td>\n",
       "      <td>In</td>\n",
       "    </tr>\n",
       "    <tr>\n",
       "      <th>2</th>\n",
       "      <td>41</td>\n",
       "      <td>Out</td>\n",
       "    </tr>\n",
       "    <tr>\n",
       "      <th>3</th>\n",
       "      <td>41</td>\n",
       "      <td>Out</td>\n",
       "    </tr>\n",
       "    <tr>\n",
       "      <th>4</th>\n",
       "      <td>31</td>\n",
       "      <td>In</td>\n",
       "    </tr>\n",
       "  </tbody>\n",
       "</table>\n",
       "</div>"
      ],
      "text/plain": [
       "   temp out/in\n",
       "0    29     In\n",
       "1    29     In\n",
       "2    41    Out\n",
       "3    41    Out\n",
       "4    31     In"
      ]
     },
     "execution_count": 8,
     "metadata": {},
     "output_type": "execute_result"
    }
   ],
   "source": [
    "#Getting the userful data into the \"data\" dataframe\n",
    "data = df.iloc[:,3:]\n",
    "data.head()"
   ]
  },
  {
   "cell_type": "code",
   "execution_count": null,
   "id": "suffering-scale",
   "metadata": {},
   "outputs": [],
   "source": []
  },
  {
   "cell_type": "code",
   "execution_count": 9,
   "id": "listed-tuition",
   "metadata": {},
   "outputs": [
    {
     "data": {
      "text/html": [
       "<div>\n",
       "<style scoped>\n",
       "    .dataframe tbody tr th:only-of-type {\n",
       "        vertical-align: middle;\n",
       "    }\n",
       "\n",
       "    .dataframe tbody tr th {\n",
       "        vertical-align: top;\n",
       "    }\n",
       "\n",
       "    .dataframe thead th {\n",
       "        text-align: right;\n",
       "    }\n",
       "</style>\n",
       "<table border=\"1\" class=\"dataframe\">\n",
       "  <thead>\n",
       "    <tr style=\"text-align: right;\">\n",
       "      <th></th>\n",
       "      <th>temp</th>\n",
       "      <th>out/in</th>\n",
       "    </tr>\n",
       "  </thead>\n",
       "  <tbody>\n",
       "    <tr>\n",
       "      <th>0</th>\n",
       "      <td>29</td>\n",
       "      <td>0</td>\n",
       "    </tr>\n",
       "    <tr>\n",
       "      <th>1</th>\n",
       "      <td>29</td>\n",
       "      <td>0</td>\n",
       "    </tr>\n",
       "    <tr>\n",
       "      <th>2</th>\n",
       "      <td>41</td>\n",
       "      <td>1</td>\n",
       "    </tr>\n",
       "    <tr>\n",
       "      <th>3</th>\n",
       "      <td>41</td>\n",
       "      <td>1</td>\n",
       "    </tr>\n",
       "    <tr>\n",
       "      <th>4</th>\n",
       "      <td>31</td>\n",
       "      <td>0</td>\n",
       "    </tr>\n",
       "  </tbody>\n",
       "</table>\n",
       "</div>"
      ],
      "text/plain": [
       "   temp  out/in\n",
       "0    29       0\n",
       "1    29       0\n",
       "2    41       1\n",
       "3    41       1\n",
       "4    31       0"
      ]
     },
     "execution_count": 9,
     "metadata": {},
     "output_type": "execute_result"
    }
   ],
   "source": [
    "#We can't work with text data so we encode it to get it in integer format\n",
    "#Here '0' means 'in' and '1' means 'out'.\n",
    "from sklearn.preprocessing import LabelEncoder\n",
    "lec = LabelEncoder()\n",
    "data['out/in'] = lec.fit_transform(data['out/in'])\n",
    "data.head()"
   ]
  },
  {
   "cell_type": "code",
   "execution_count": 10,
   "id": "unlimited-anaheim",
   "metadata": {},
   "outputs": [
    {
     "data": {
      "text/plain": [
       "<seaborn.axisgrid.PairGrid at 0x3a626198>"
      ]
     },
     "execution_count": 10,
     "metadata": {},
     "output_type": "execute_result"
    },
    {
     "data": {
      "image/png": "[encoded data removed]",
      "text/plain": [
       "<Figure size 222.375x180 with 2 Axes>"
      ]
     },
     "metadata": {
      "needs_background": "light"
     },
     "output_type": "display_data"
    }
   ],
   "source": [
    "import seaborn as sns\n",
    "sns.pairplot(data = data , hue = 'out/in')"
   ]
  },
  {
   "cell_type": "code",
   "execution_count": 11,
   "id": "treated-incidence",
   "metadata": {},
   "outputs": [
    {
     "data": {
      "image/png": "[encoded data removed]",
      "text/plain": [
       "<Figure size 432x288 with 1 Axes>"
      ]
     },
     "metadata": {
      "needs_background": "light"
     },
     "output_type": "display_data"
    }
   ],
   "source": [
    "import matplotlib.pyplot as plt\n",
    "plt.scatter(data['temp'],data['out/in'])\n",
    "plt.title('Temperatur Scatter Plot')\n",
    "plt.xlabel('Temperature')\n",
    "plt.ylabel('IN/OUT')\n",
    "plt.show()"
   ]
  },
  {
   "cell_type": "code",
   "execution_count": 12,
   "id": "compressed-finder",
   "metadata": {},
   "outputs": [
    {
     "name": "stdout",
     "output_type": "stream",
     "text": [
      "[29 29 41 41 31]\n"
     ]
    }
   ],
   "source": [
    "#Converting the data into numpy array\n",
    "\n",
    "X = data['temp'].values\n",
    "print(X[0:5])"
   ]
  },
  {
   "cell_type": "code",
   "execution_count": 13,
   "id": "encouraging-registrar",
   "metadata": {},
   "outputs": [
    {
     "name": "stdout",
     "output_type": "stream",
     "text": [
      "[0 0 1 1 0]\n"
     ]
    }
   ],
   "source": [
    "Y = data['out/in'].values\n",
    "print(Y[0:5])"
   ]
  },
  {
   "cell_type": "code",
   "execution_count": 14,
   "id": "involved-match",
   "metadata": {},
   "outputs": [
    {
     "data": {
      "text/plain": [
       "(97606, 1)"
      ]
     },
     "execution_count": 14,
     "metadata": {},
     "output_type": "execute_result"
    }
   ],
   "source": [
    "X = X.reshape(-1,1)\n",
    "X.shape"
   ]
  },
  {
   "cell_type": "markdown",
   "id": "white-template",
   "metadata": {},
   "source": [
    "As their is a diversity between input and output variables or we can say\n",
    "\n",
    "dependent and independent variables, we standardize the data to get better results"
   ]
  },
  {
   "cell_type": "code",
   "execution_count": 15,
   "id": "selective-directive",
   "metadata": {},
   "outputs": [
    {
     "name": "stdout",
     "output_type": "stream",
     "text": [
      "[[-1.06213116]\n",
      " [-1.06213116]\n",
      " [ 1.04320729]\n",
      " [ 1.04320729]\n",
      " [-0.71124142]]\n"
     ]
    }
   ],
   "source": [
    "from sklearn.preprocessing import StandardScaler\n",
    "sc = StandardScaler().fit(X)\n",
    "X = sc.transform(X)\n",
    "print(X[0:5])"
   ]
  },
  {
   "cell_type": "code",
   "execution_count": 16,
   "id": "expired-chorus",
   "metadata": {},
   "outputs": [
    {
     "name": "stdout",
     "output_type": "stream",
     "text": [
      "[[ 1.5695419 ]\n",
      " [-0.71124142]\n",
      " [ 0.51687268]\n",
      " [ 0.86776242]\n",
      " [ 2.09587652]]\n"
     ]
    }
   ],
   "source": [
    "from sklearn.model_selection import train_test_split\n",
    "X_train , x_test , Y_train , y_test = train_test_split(X,Y,test_size = 0.3)\n",
    "print(X_train[0:5])"
   ]
  },
  {
   "cell_type": "code",
   "execution_count": 17,
   "id": "norman-lexington",
   "metadata": {},
   "outputs": [
    {
     "name": "stdout",
     "output_type": "stream",
     "text": [
      "68324\n"
     ]
    }
   ],
   "source": [
    "print(len(X_train))"
   ]
  },
  {
   "cell_type": "markdown",
   "id": "improving-volume",
   "metadata": {},
   "source": [
    "I know that the data is not large, but the data has some temp reading\n",
    "\n",
    "that are corresponding to both in and out, so to split them, we have to\n",
    "\n",
    "introduce a kernel for that we use SVM."
   ]
  },
  {
   "cell_type": "code",
   "execution_count": 18,
   "id": "administrative-trigger",
   "metadata": {},
   "outputs": [
    {
     "data": {
      "text/plain": [
       "SVC(gamma='auto')"
      ]
     },
     "execution_count": 18,
     "metadata": {},
     "output_type": "execute_result"
    }
   ],
   "source": [
    "from sklearn.svm import SVC\n",
    "classifier2 = SVC(gamma = 'auto')\n",
    "classifier2.fit(X_train,Y_train)"
   ]
  },
  {
   "cell_type": "markdown",
   "id": "incorporated-manufacturer",
   "metadata": {},
   "source": [
    "Cross Validating the SVM classifier on different distributions of data"
   ]
  },
  {
   "cell_type": "code",
   "execution_count": 19,
   "id": "sudden-papua",
   "metadata": {},
   "outputs": [
    {
     "data": {
      "text/plain": [
       "0.8016528925619835"
      ]
     },
     "execution_count": 19,
     "metadata": {},
     "output_type": "execute_result"
    }
   ],
   "source": [
    "y_pred_classifier2 = classifier2.predict(x_test)\n",
    "from sklearn.metrics import accuracy_score ,confusion_matrix\n",
    "accuracy_score(y_pred_classifier2,y_test)"
   ]
  },
  {
   "cell_type": "code",
   "execution_count": 20,
   "id": "daily-approval",
   "metadata": {},
   "outputs": [
    {
     "name": "stdout",
     "output_type": "stream",
     "text": [
      "Confusion Matrix:\n",
      "[[ 2862  3136]\n",
      " [ 2672 20612]]\n"
     ]
    }
   ],
   "source": [
    "print(\"Confusion Matrix:\")\n",
    "print(confusion_matrix(y_test, y_pred_classifier2))"
   ]
  },
  {
   "cell_type": "code",
   "execution_count": 21,
   "id": "failing-officer",
   "metadata": {},
   "outputs": [
    {
     "data": {
      "image/png": "[encoded data removed]",
      "text/plain": [
       "<Figure size 432x288 with 2 Axes>"
      ]
     },
     "metadata": {
      "needs_background": "light"
     },
     "output_type": "display_data"
    }
   ],
   "source": [
    "ax= plt.subplot()\n",
    "sns.heatmap(confusion_matrix(y_test, y_pred_classifier2), annot=True, ax = ax, cmap = \"BuGn\",fmt='d');\n",
    "\n",
    "# labels, title and ticks\n",
    "ax.set_xlabel(\"Predicted labels\");\n",
    "ax.set_ylabel(\"True labels\"); \n",
    "ax.set_title(\"Confusion Matrix\"); \n"
   ]
  },
  {
   "cell_type": "code",
   "execution_count": null,
   "id": "behind-flesh",
   "metadata": {},
   "outputs": [],
   "source": []
  }
 ],
 "metadata": {
  "kernelspec": {
   "display_name": "Python 3",
   "language": "python",
   "name": "python3"
  },
  "language_info": {
   "codemirror_mode": {
    "name": "ipython",
    "version": 3
   },
   "file_extension": ".py",
   "mimetype": "text/x-python",
   "name": "python",
   "nbconvert_exporter": "python",
   "pygments_lexer": "ipython3",
   "version": "3.6.4"
  }
 },
 "nbformat": 4,
 "nbformat_minor": 5
}
