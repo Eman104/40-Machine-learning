{
 "cells": [
  {
   "cell_type": "code",
   "execution_count": 1,
   "id": "diagnostic-nudist",
   "metadata": {},
   "outputs": [
    {
     "name": "stderr",
     "output_type": "stream",
     "text": [
      "f:\\python-3.6\\lib\\site-packages\\numpy\\_distributor_init.py:32: UserWarning: loaded more than 1 DLL from .libs:\n",
      "f:\\python-3.6\\lib\\site-packages\\numpy\\.libs\\libopenblas.PYQHXLVVQ7VESDPUVUADXEVJOBGHJPAY.gfortran-win_amd64.dll\n",
      "f:\\python-3.6\\lib\\site-packages\\numpy\\.libs\\libopenblas.WCDJNK7YVMPZQ2ME2ZZHJJRJ3JIKNDB7.gfortran-win_amd64.dll\n",
      "  stacklevel=1)\n"
     ]
    }
   ],
   "source": [
    "import numpy as np\n",
    "import pandas as pd\n",
    "from sklearn.neighbors import NearestNeighbors"
   ]
  },
  {
   "cell_type": "code",
   "execution_count": 2,
   "id": "reliable-gauge",
   "metadata": {},
   "outputs": [
    {
     "data": {
      "text/html": [
       "<div>\n",
       "<style scoped>\n",
       "    .dataframe tbody tr th:only-of-type {\n",
       "        vertical-align: middle;\n",
       "    }\n",
       "\n",
       "    .dataframe tbody tr th {\n",
       "        vertical-align: top;\n",
       "    }\n",
       "\n",
       "    .dataframe thead th {\n",
       "        text-align: right;\n",
       "    }\n",
       "</style>\n",
       "<table border=\"1\" class=\"dataframe\">\n",
       "  <thead>\n",
       "    <tr style=\"text-align: right;\">\n",
       "      <th></th>\n",
       "      <th>INCIDENT_NUMBER</th>\n",
       "      <th>OFFENSE_CODE</th>\n",
       "      <th>OFFENSE_CODE_GROUP</th>\n",
       "      <th>OFFENSE_DESCRIPTION</th>\n",
       "      <th>DISTRICT</th>\n",
       "      <th>REPORTING_AREA</th>\n",
       "      <th>SHOOTING</th>\n",
       "      <th>OCCURRED_ON_DATE</th>\n",
       "      <th>YEAR</th>\n",
       "      <th>MONTH</th>\n",
       "      <th>DAY_OF_WEEK</th>\n",
       "      <th>HOUR</th>\n",
       "      <th>UCR_PART</th>\n",
       "      <th>STREET</th>\n",
       "      <th>Lat</th>\n",
       "      <th>Long</th>\n",
       "      <th>Location</th>\n",
       "    </tr>\n",
       "  </thead>\n",
       "  <tbody>\n",
       "    <tr>\n",
       "      <th>0</th>\n",
       "      <td>I182070945</td>\n",
       "      <td>619</td>\n",
       "      <td>Larceny</td>\n",
       "      <td>LARCENY ALL OTHERS</td>\n",
       "      <td>D14</td>\n",
       "      <td>808</td>\n",
       "      <td>NaN</td>\n",
       "      <td>2018-09-02 13:00:00</td>\n",
       "      <td>2018</td>\n",
       "      <td>9</td>\n",
       "      <td>Sunday</td>\n",
       "      <td>13</td>\n",
       "      <td>Part One</td>\n",
       "      <td>LINCOLN ST</td>\n",
       "      <td>42.357791</td>\n",
       "      <td>-71.139371</td>\n",
       "      <td>(42.35779134, -71.13937053)</td>\n",
       "    </tr>\n",
       "    <tr>\n",
       "      <th>1</th>\n",
       "      <td>I182070943</td>\n",
       "      <td>1402</td>\n",
       "      <td>Vandalism</td>\n",
       "      <td>VANDALISM</td>\n",
       "      <td>C11</td>\n",
       "      <td>347</td>\n",
       "      <td>NaN</td>\n",
       "      <td>2018-08-21 00:00:00</td>\n",
       "      <td>2018</td>\n",
       "      <td>8</td>\n",
       "      <td>Tuesday</td>\n",
       "      <td>0</td>\n",
       "      <td>Part Two</td>\n",
       "      <td>HECLA ST</td>\n",
       "      <td>42.306821</td>\n",
       "      <td>-71.060300</td>\n",
       "      <td>(42.30682138, -71.06030035)</td>\n",
       "    </tr>\n",
       "    <tr>\n",
       "      <th>2</th>\n",
       "      <td>I182070941</td>\n",
       "      <td>3410</td>\n",
       "      <td>Towed</td>\n",
       "      <td>TOWED MOTOR VEHICLE</td>\n",
       "      <td>D4</td>\n",
       "      <td>151</td>\n",
       "      <td>NaN</td>\n",
       "      <td>2018-09-03 19:27:00</td>\n",
       "      <td>2018</td>\n",
       "      <td>9</td>\n",
       "      <td>Monday</td>\n",
       "      <td>19</td>\n",
       "      <td>Part Three</td>\n",
       "      <td>CAZENOVE ST</td>\n",
       "      <td>42.346589</td>\n",
       "      <td>-71.072429</td>\n",
       "      <td>(42.34658879, -71.07242943)</td>\n",
       "    </tr>\n",
       "    <tr>\n",
       "      <th>3</th>\n",
       "      <td>I182070940</td>\n",
       "      <td>3114</td>\n",
       "      <td>Investigate Property</td>\n",
       "      <td>INVESTIGATE PROPERTY</td>\n",
       "      <td>D4</td>\n",
       "      <td>272</td>\n",
       "      <td>NaN</td>\n",
       "      <td>2018-09-03 21:16:00</td>\n",
       "      <td>2018</td>\n",
       "      <td>9</td>\n",
       "      <td>Monday</td>\n",
       "      <td>21</td>\n",
       "      <td>Part Three</td>\n",
       "      <td>NEWCOMB ST</td>\n",
       "      <td>42.334182</td>\n",
       "      <td>-71.078664</td>\n",
       "      <td>(42.33418175, -71.07866441)</td>\n",
       "    </tr>\n",
       "    <tr>\n",
       "      <th>4</th>\n",
       "      <td>I182070938</td>\n",
       "      <td>3114</td>\n",
       "      <td>Investigate Property</td>\n",
       "      <td>INVESTIGATE PROPERTY</td>\n",
       "      <td>B3</td>\n",
       "      <td>421</td>\n",
       "      <td>NaN</td>\n",
       "      <td>2018-09-03 21:05:00</td>\n",
       "      <td>2018</td>\n",
       "      <td>9</td>\n",
       "      <td>Monday</td>\n",
       "      <td>21</td>\n",
       "      <td>Part Three</td>\n",
       "      <td>DELHI ST</td>\n",
       "      <td>42.275365</td>\n",
       "      <td>-71.090361</td>\n",
       "      <td>(42.27536542, -71.09036101)</td>\n",
       "    </tr>\n",
       "  </tbody>\n",
       "</table>\n",
       "</div>"
      ],
      "text/plain": [
       "  INCIDENT_NUMBER  OFFENSE_CODE    OFFENSE_CODE_GROUP   OFFENSE_DESCRIPTION  \\\n",
       "0      I182070945           619               Larceny    LARCENY ALL OTHERS   \n",
       "1      I182070943          1402             Vandalism             VANDALISM   \n",
       "2      I182070941          3410                 Towed   TOWED MOTOR VEHICLE   \n",
       "3      I182070940          3114  Investigate Property  INVESTIGATE PROPERTY   \n",
       "4      I182070938          3114  Investigate Property  INVESTIGATE PROPERTY   \n",
       "\n",
       "  DISTRICT REPORTING_AREA SHOOTING     OCCURRED_ON_DATE  YEAR  MONTH  \\\n",
       "0      D14            808      NaN  2018-09-02 13:00:00  2018      9   \n",
       "1      C11            347      NaN  2018-08-21 00:00:00  2018      8   \n",
       "2       D4            151      NaN  2018-09-03 19:27:00  2018      9   \n",
       "3       D4            272      NaN  2018-09-03 21:16:00  2018      9   \n",
       "4       B3            421      NaN  2018-09-03 21:05:00  2018      9   \n",
       "\n",
       "  DAY_OF_WEEK  HOUR    UCR_PART       STREET        Lat       Long  \\\n",
       "0      Sunday    13    Part One   LINCOLN ST  42.357791 -71.139371   \n",
       "1     Tuesday     0    Part Two     HECLA ST  42.306821 -71.060300   \n",
       "2      Monday    19  Part Three  CAZENOVE ST  42.346589 -71.072429   \n",
       "3      Monday    21  Part Three   NEWCOMB ST  42.334182 -71.078664   \n",
       "4      Monday    21  Part Three     DELHI ST  42.275365 -71.090361   \n",
       "\n",
       "                      Location  \n",
       "0  (42.35779134, -71.13937053)  \n",
       "1  (42.30682138, -71.06030035)  \n",
       "2  (42.34658879, -71.07242943)  \n",
       "3  (42.33418175, -71.07866441)  \n",
       "4  (42.27536542, -71.09036101)  "
      ]
     },
     "execution_count": 2,
     "metadata": {},
     "output_type": "execute_result"
    }
   ],
   "source": [
    "data = pd.read_csv( 'crime.csv', encoding='latin-1')\n",
    "\n",
    "data.head()"
   ]
  },
  {
   "cell_type": "code",
   "execution_count": 3,
   "id": "prepared-stamp",
   "metadata": {},
   "outputs": [
    {
     "data": {
      "text/html": [
       "<div>\n",
       "<style scoped>\n",
       "    .dataframe tbody tr th:only-of-type {\n",
       "        vertical-align: middle;\n",
       "    }\n",
       "\n",
       "    .dataframe tbody tr th {\n",
       "        vertical-align: top;\n",
       "    }\n",
       "\n",
       "    .dataframe thead th {\n",
       "        text-align: right;\n",
       "    }\n",
       "</style>\n",
       "<table border=\"1\" class=\"dataframe\">\n",
       "  <thead>\n",
       "    <tr style=\"text-align: right;\">\n",
       "      <th></th>\n",
       "      <th>OFFENSE_CODE</th>\n",
       "      <th>YEAR</th>\n",
       "      <th>MONTH</th>\n",
       "      <th>HOUR</th>\n",
       "      <th>Lat</th>\n",
       "      <th>Long</th>\n",
       "    </tr>\n",
       "  </thead>\n",
       "  <tbody>\n",
       "    <tr>\n",
       "      <th>count</th>\n",
       "      <td>319073.000000</td>\n",
       "      <td>319073.000000</td>\n",
       "      <td>319073.000000</td>\n",
       "      <td>319073.000000</td>\n",
       "      <td>299074.000000</td>\n",
       "      <td>299074.000000</td>\n",
       "    </tr>\n",
       "    <tr>\n",
       "      <th>mean</th>\n",
       "      <td>2317.546956</td>\n",
       "      <td>2016.560586</td>\n",
       "      <td>6.609719</td>\n",
       "      <td>13.118205</td>\n",
       "      <td>42.214381</td>\n",
       "      <td>-70.908272</td>\n",
       "    </tr>\n",
       "    <tr>\n",
       "      <th>std</th>\n",
       "      <td>1185.285543</td>\n",
       "      <td>0.996344</td>\n",
       "      <td>3.273691</td>\n",
       "      <td>6.294205</td>\n",
       "      <td>2.159766</td>\n",
       "      <td>3.493618</td>\n",
       "    </tr>\n",
       "    <tr>\n",
       "      <th>min</th>\n",
       "      <td>111.000000</td>\n",
       "      <td>2015.000000</td>\n",
       "      <td>1.000000</td>\n",
       "      <td>0.000000</td>\n",
       "      <td>-1.000000</td>\n",
       "      <td>-71.178674</td>\n",
       "    </tr>\n",
       "    <tr>\n",
       "      <th>25%</th>\n",
       "      <td>1001.000000</td>\n",
       "      <td>2016.000000</td>\n",
       "      <td>4.000000</td>\n",
       "      <td>9.000000</td>\n",
       "      <td>42.297442</td>\n",
       "      <td>-71.097135</td>\n",
       "    </tr>\n",
       "    <tr>\n",
       "      <th>50%</th>\n",
       "      <td>2907.000000</td>\n",
       "      <td>2017.000000</td>\n",
       "      <td>7.000000</td>\n",
       "      <td>14.000000</td>\n",
       "      <td>42.325538</td>\n",
       "      <td>-71.077524</td>\n",
       "    </tr>\n",
       "    <tr>\n",
       "      <th>75%</th>\n",
       "      <td>3201.000000</td>\n",
       "      <td>2017.000000</td>\n",
       "      <td>9.000000</td>\n",
       "      <td>18.000000</td>\n",
       "      <td>42.348624</td>\n",
       "      <td>-71.062467</td>\n",
       "    </tr>\n",
       "    <tr>\n",
       "      <th>max</th>\n",
       "      <td>3831.000000</td>\n",
       "      <td>2018.000000</td>\n",
       "      <td>12.000000</td>\n",
       "      <td>23.000000</td>\n",
       "      <td>42.395042</td>\n",
       "      <td>-1.000000</td>\n",
       "    </tr>\n",
       "  </tbody>\n",
       "</table>\n",
       "</div>"
      ],
      "text/plain": [
       "        OFFENSE_CODE           YEAR          MONTH           HOUR  \\\n",
       "count  319073.000000  319073.000000  319073.000000  319073.000000   \n",
       "mean     2317.546956    2016.560586       6.609719      13.118205   \n",
       "std      1185.285543       0.996344       3.273691       6.294205   \n",
       "min       111.000000    2015.000000       1.000000       0.000000   \n",
       "25%      1001.000000    2016.000000       4.000000       9.000000   \n",
       "50%      2907.000000    2017.000000       7.000000      14.000000   \n",
       "75%      3201.000000    2017.000000       9.000000      18.000000   \n",
       "max      3831.000000    2018.000000      12.000000      23.000000   \n",
       "\n",
       "                 Lat           Long  \n",
       "count  299074.000000  299074.000000  \n",
       "mean       42.214381     -70.908272  \n",
       "std         2.159766       3.493618  \n",
       "min        -1.000000     -71.178674  \n",
       "25%        42.297442     -71.097135  \n",
       "50%        42.325538     -71.077524  \n",
       "75%        42.348624     -71.062467  \n",
       "max        42.395042      -1.000000  "
      ]
     },
     "execution_count": 3,
     "metadata": {},
     "output_type": "execute_result"
    }
   ],
   "source": [
    "data.describe()"
   ]
  },
  {
   "cell_type": "code",
   "execution_count": 4,
   "id": "first-booking",
   "metadata": {},
   "outputs": [
    {
     "name": "stdout",
     "output_type": "stream",
     "text": [
      "<class 'pandas.core.frame.DataFrame'>\n",
      "RangeIndex: 319073 entries, 0 to 319072\n",
      "Data columns (total 17 columns):\n",
      " #   Column               Non-Null Count   Dtype  \n",
      "---  ------               --------------   -----  \n",
      " 0   INCIDENT_NUMBER      319073 non-null  object \n",
      " 1   OFFENSE_CODE         319073 non-null  int64  \n",
      " 2   OFFENSE_CODE_GROUP   319073 non-null  object \n",
      " 3   OFFENSE_DESCRIPTION  319073 non-null  object \n",
      " 4   DISTRICT             317308 non-null  object \n",
      " 5   REPORTING_AREA       319073 non-null  object \n",
      " 6   SHOOTING             1019 non-null    object \n",
      " 7   OCCURRED_ON_DATE     319073 non-null  object \n",
      " 8   YEAR                 319073 non-null  int64  \n",
      " 9   MONTH                319073 non-null  int64  \n",
      " 10  DAY_OF_WEEK          319073 non-null  object \n",
      " 11  HOUR                 319073 non-null  int64  \n",
      " 12  UCR_PART             318983 non-null  object \n",
      " 13  STREET               308202 non-null  object \n",
      " 14  Lat                  299074 non-null  float64\n",
      " 15  Long                 299074 non-null  float64\n",
      " 16  Location             319073 non-null  object \n",
      "dtypes: float64(2), int64(4), object(11)\n",
      "memory usage: 41.4+ MB\n"
     ]
    }
   ],
   "source": [
    "data.info()\n"
   ]
  },
  {
   "cell_type": "markdown",
   "id": "empty-florence",
   "metadata": {},
   "source": [
    "before handling nulls or making categorical , we need to look at unique values , so we can drop features which have a very big amount of unique values , which will never help us in categorical features"
   ]
  },
  {
   "cell_type": "code",
   "execution_count": 5,
   "id": "welcome-integrity",
   "metadata": {},
   "outputs": [
    {
     "name": "stdout",
     "output_type": "stream",
     "text": [
      "Length of unique data for INCIDENT_NUMBER is 282517 \n",
      "Length of unique data for OFFENSE_CODE is 222 \n",
      "Length of unique data for OFFENSE_CODE_GROUP is 67 \n",
      "Length of unique data for OFFENSE_DESCRIPTION is 244 \n",
      "Length of unique data for DISTRICT is 13 \n",
      "Length of unique data for REPORTING_AREA is 879 \n",
      "Length of unique data for SHOOTING is 2 \n",
      "Length of unique data for OCCURRED_ON_DATE is 233229 \n",
      "Length of unique data for YEAR is 4 \n",
      "Length of unique data for MONTH is 12 \n",
      "Length of unique data for DAY_OF_WEEK is 7 \n",
      "Length of unique data for HOUR is 24 \n",
      "Length of unique data for UCR_PART is 5 \n",
      "Length of unique data for STREET is 4658 \n",
      "Length of unique data for Lat is 18179 \n",
      "Length of unique data for Long is 18179 \n",
      "Length of unique data for Location is 18194 \n"
     ]
    }
   ],
   "source": [
    "for column in data.columns : \n",
    "    print('Length of unique data for {0} is {1} '.format(column , len(data[column].unique())))"
   ]
  },
  {
   "cell_type": "code",
   "execution_count": 6,
   "id": "objective-settle",
   "metadata": {},
   "outputs": [
    {
     "data": {
      "text/html": [
       "<div>\n",
       "<style scoped>\n",
       "    .dataframe tbody tr th:only-of-type {\n",
       "        vertical-align: middle;\n",
       "    }\n",
       "\n",
       "    .dataframe tbody tr th {\n",
       "        vertical-align: top;\n",
       "    }\n",
       "\n",
       "    .dataframe thead th {\n",
       "        text-align: right;\n",
       "    }\n",
       "</style>\n",
       "<table border=\"1\" class=\"dataframe\">\n",
       "  <thead>\n",
       "    <tr style=\"text-align: right;\">\n",
       "      <th></th>\n",
       "      <th>OFFENSE_CODE_GROUP</th>\n",
       "      <th>OFFENSE_DESCRIPTION</th>\n",
       "      <th>DISTRICT</th>\n",
       "      <th>YEAR</th>\n",
       "      <th>MONTH</th>\n",
       "      <th>DAY_OF_WEEK</th>\n",
       "      <th>HOUR</th>\n",
       "      <th>UCR_PART</th>\n",
       "      <th>Lat</th>\n",
       "      <th>Long</th>\n",
       "    </tr>\n",
       "  </thead>\n",
       "  <tbody>\n",
       "    <tr>\n",
       "      <th>0</th>\n",
       "      <td>Larceny</td>\n",
       "      <td>LARCENY ALL OTHERS</td>\n",
       "      <td>D14</td>\n",
       "      <td>2018</td>\n",
       "      <td>9</td>\n",
       "      <td>Sunday</td>\n",
       "      <td>13</td>\n",
       "      <td>Part One</td>\n",
       "      <td>42.357791</td>\n",
       "      <td>-71.139371</td>\n",
       "    </tr>\n",
       "    <tr>\n",
       "      <th>1</th>\n",
       "      <td>Vandalism</td>\n",
       "      <td>VANDALISM</td>\n",
       "      <td>C11</td>\n",
       "      <td>2018</td>\n",
       "      <td>8</td>\n",
       "      <td>Tuesday</td>\n",
       "      <td>0</td>\n",
       "      <td>Part Two</td>\n",
       "      <td>42.306821</td>\n",
       "      <td>-71.060300</td>\n",
       "    </tr>\n",
       "    <tr>\n",
       "      <th>2</th>\n",
       "      <td>Towed</td>\n",
       "      <td>TOWED MOTOR VEHICLE</td>\n",
       "      <td>D4</td>\n",
       "      <td>2018</td>\n",
       "      <td>9</td>\n",
       "      <td>Monday</td>\n",
       "      <td>19</td>\n",
       "      <td>Part Three</td>\n",
       "      <td>42.346589</td>\n",
       "      <td>-71.072429</td>\n",
       "    </tr>\n",
       "    <tr>\n",
       "      <th>3</th>\n",
       "      <td>Investigate Property</td>\n",
       "      <td>INVESTIGATE PROPERTY</td>\n",
       "      <td>D4</td>\n",
       "      <td>2018</td>\n",
       "      <td>9</td>\n",
       "      <td>Monday</td>\n",
       "      <td>21</td>\n",
       "      <td>Part Three</td>\n",
       "      <td>42.334182</td>\n",
       "      <td>-71.078664</td>\n",
       "    </tr>\n",
       "    <tr>\n",
       "      <th>4</th>\n",
       "      <td>Investigate Property</td>\n",
       "      <td>INVESTIGATE PROPERTY</td>\n",
       "      <td>B3</td>\n",
       "      <td>2018</td>\n",
       "      <td>9</td>\n",
       "      <td>Monday</td>\n",
       "      <td>21</td>\n",
       "      <td>Part Three</td>\n",
       "      <td>42.275365</td>\n",
       "      <td>-71.090361</td>\n",
       "    </tr>\n",
       "  </tbody>\n",
       "</table>\n",
       "</div>"
      ],
      "text/plain": [
       "     OFFENSE_CODE_GROUP   OFFENSE_DESCRIPTION DISTRICT  YEAR  MONTH  \\\n",
       "0               Larceny    LARCENY ALL OTHERS      D14  2018      9   \n",
       "1             Vandalism             VANDALISM      C11  2018      8   \n",
       "2                 Towed   TOWED MOTOR VEHICLE       D4  2018      9   \n",
       "3  Investigate Property  INVESTIGATE PROPERTY       D4  2018      9   \n",
       "4  Investigate Property  INVESTIGATE PROPERTY       B3  2018      9   \n",
       "\n",
       "  DAY_OF_WEEK  HOUR    UCR_PART        Lat       Long  \n",
       "0      Sunday    13    Part One  42.357791 -71.139371  \n",
       "1     Tuesday     0    Part Two  42.306821 -71.060300  \n",
       "2      Monday    19  Part Three  42.346589 -71.072429  \n",
       "3      Monday    21  Part Three  42.334182 -71.078664  \n",
       "4      Monday    21  Part Three  42.275365 -71.090361  "
      ]
     },
     "execution_count": 6,
     "metadata": {},
     "output_type": "execute_result"
    }
   ],
   "source": [
    "data.drop(['INCIDENT_NUMBER' , 'OCCURRED_ON_DATE' ,'STREET' , 'OFFENSE_CODE' , 'REPORTING_AREA','Location','SHOOTING'],axis=1, inplace=True)\n",
    "\n",
    "data.head()"
   ]
  },
  {
   "cell_type": "code",
   "execution_count": 7,
   "id": "indonesian-genome",
   "metadata": {},
   "outputs": [
    {
     "data": {
      "text/plain": [
       "OFFENSE_CODE_GROUP         0\n",
       "OFFENSE_DESCRIPTION        0\n",
       "DISTRICT                1765\n",
       "YEAR                       0\n",
       "MONTH                      0\n",
       "DAY_OF_WEEK                0\n",
       "HOUR                       0\n",
       "UCR_PART                  90\n",
       "Lat                    19999\n",
       "Long                   19999\n",
       "dtype: int64"
      ]
     },
     "execution_count": 7,
     "metadata": {},
     "output_type": "execute_result"
    }
   ],
   "source": [
    "data.isnull().sum()"
   ]
  },
  {
   "cell_type": "code",
   "execution_count": 8,
   "id": "atmospheric-commission",
   "metadata": {},
   "outputs": [
    {
     "data": {
      "text/plain": [
       "<AxesSubplot:xlabel='DAY_OF_WEEK', ylabel='count'>"
      ]
     },
     "execution_count": 8,
     "metadata": {},
     "output_type": "execute_result"
    },
    {
     "data": {
      "image/png": "[encoded data removed]",
      "text/plain": [
       "<Figure size 432x288 with 1 Axes>"
      ]
     },
     "metadata": {
      "needs_background": "light"
     },
     "output_type": "display_data"
    }
   ],
   "source": [
    "import seaborn as sns\n",
    "sns.countplot(data['DAY_OF_WEEK'])"
   ]
  },
  {
   "cell_type": "code",
   "execution_count": 9,
   "id": "broad-confirmation",
   "metadata": {},
   "outputs": [
    {
     "data": {
      "text/html": [
       "<div>\n",
       "<style scoped>\n",
       "    .dataframe tbody tr th:only-of-type {\n",
       "        vertical-align: middle;\n",
       "    }\n",
       "\n",
       "    .dataframe tbody tr th {\n",
       "        vertical-align: top;\n",
       "    }\n",
       "\n",
       "    .dataframe thead th {\n",
       "        text-align: right;\n",
       "    }\n",
       "</style>\n",
       "<table border=\"1\" class=\"dataframe\">\n",
       "  <thead>\n",
       "    <tr style=\"text-align: right;\">\n",
       "      <th></th>\n",
       "      <th>OFFENSE_CODE_GROUP</th>\n",
       "      <th>OFFENSE_DESCRIPTION</th>\n",
       "      <th>DISTRICT</th>\n",
       "      <th>YEAR</th>\n",
       "      <th>MONTH</th>\n",
       "      <th>DAY_OF_WEEK</th>\n",
       "      <th>HOUR</th>\n",
       "      <th>UCR_PART</th>\n",
       "      <th>Lat</th>\n",
       "      <th>Long</th>\n",
       "    </tr>\n",
       "  </thead>\n",
       "  <tbody>\n",
       "    <tr>\n",
       "      <th>0</th>\n",
       "      <td>Larceny</td>\n",
       "      <td>LARCENY ALL OTHERS</td>\n",
       "      <td>D14</td>\n",
       "      <td>2018</td>\n",
       "      <td>9</td>\n",
       "      <td>Sunday</td>\n",
       "      <td>13</td>\n",
       "      <td>Part One</td>\n",
       "      <td>42.357791</td>\n",
       "      <td>-71.139371</td>\n",
       "    </tr>\n",
       "    <tr>\n",
       "      <th>1</th>\n",
       "      <td>Vandalism</td>\n",
       "      <td>VANDALISM</td>\n",
       "      <td>C11</td>\n",
       "      <td>2018</td>\n",
       "      <td>8</td>\n",
       "      <td>Tuesday</td>\n",
       "      <td>0</td>\n",
       "      <td>Part Two</td>\n",
       "      <td>42.306821</td>\n",
       "      <td>-71.060300</td>\n",
       "    </tr>\n",
       "  </tbody>\n",
       "</table>\n",
       "</div>"
      ],
      "text/plain": [
       "  OFFENSE_CODE_GROUP OFFENSE_DESCRIPTION DISTRICT  YEAR  MONTH DAY_OF_WEEK  \\\n",
       "0            Larceny  LARCENY ALL OTHERS      D14  2018      9      Sunday   \n",
       "1          Vandalism           VANDALISM      C11  2018      8     Tuesday   \n",
       "\n",
       "   HOUR  UCR_PART        Lat       Long  \n",
       "0    13  Part One  42.357791 -71.139371  \n",
       "1     0  Part Two  42.306821 -71.060300  "
      ]
     },
     "execution_count": 9,
     "metadata": {},
     "output_type": "execute_result"
    }
   ],
   "source": [
    "data.head(2)"
   ]
  },
  {
   "cell_type": "code",
   "execution_count": 10,
   "id": "variable-action",
   "metadata": {},
   "outputs": [
    {
     "data": {
      "text/plain": [
       "<AxesSubplot:xlabel='UCR_PART', ylabel='count'>"
      ]
     },
     "execution_count": 10,
     "metadata": {},
     "output_type": "execute_result"
    },
    {
     "data": {
      "image/png": "[encoded data removed]",
      "text/plain": [
       "<Figure size 432x288 with 1 Axes>"
      ]
     },
     "metadata": {
      "needs_background": "light"
     },
     "output_type": "display_data"
    }
   ],
   "source": [
    "sns.countplot(data['UCR_PART'])"
   ]
  },
  {
   "cell_type": "code",
   "execution_count": 11,
   "id": "renewable-monster",
   "metadata": {},
   "outputs": [
    {
     "data": {
      "text/plain": [
       "<AxesSubplot:xlabel='MONTH', ylabel='count'>"
      ]
     },
     "execution_count": 11,
     "metadata": {},
     "output_type": "execute_result"
    },
    {
     "data": {
      "image/png": "[encoded data removed]",
      "text/plain": [
       "<Figure size 432x288 with 1 Axes>"
      ]
     },
     "metadata": {
      "needs_background": "light"
     },
     "output_type": "display_data"
    }
   ],
   "source": [
    "sns.countplot(data['MONTH'])"
   ]
  },
  {
   "cell_type": "code",
   "execution_count": 12,
   "id": "obvious-detroit",
   "metadata": {},
   "outputs": [
    {
     "data": {
      "text/plain": [
       "<AxesSubplot:xlabel='YEAR', ylabel='count'>"
      ]
     },
     "execution_count": 12,
     "metadata": {},
     "output_type": "execute_result"
    },
    {
     "data": {
      "image/png": "[encoded data removed]",
      "text/plain": [
       "<Figure size 432x288 with 1 Axes>"
      ]
     },
     "metadata": {
      "needs_background": "light"
     },
     "output_type": "display_data"
    }
   ],
   "source": [
    "sns.countplot(data['YEAR'])"
   ]
  },
  {
   "cell_type": "code",
   "execution_count": 13,
   "id": "contemporary-rebel",
   "metadata": {},
   "outputs": [
    {
     "data": {
      "text/plain": [
       "<AxesSubplot:>"
      ]
     },
     "execution_count": 13,
     "metadata": {},
     "output_type": "execute_result"
    },
    {
     "data": {
      "image/png": "[encoded data removed]",
      "text/plain": [
       "<Figure size 432x288 with 2 Axes>"
      ]
     },
     "metadata": {
      "needs_background": "light"
     },
     "output_type": "display_data"
    }
   ],
   "source": [
    "sns.heatmap(data.corr(),annot=True)"
   ]
  },
  {
   "cell_type": "code",
   "execution_count": 14,
   "id": "minimal-sigma",
   "metadata": {},
   "outputs": [],
   "source": [
    "data['Lat code'] = np.round(data['Lat'],2)\n",
    "data['Long code'] = np.round(data['Long'],2)\n",
    "\n",
    "data.drop(['Lat','Long'],axis=1, inplace=True)"
   ]
  },
  {
   "cell_type": "code",
   "execution_count": 15,
   "id": "lesser-gambling",
   "metadata": {},
   "outputs": [],
   "source": [
    "data.DISTRICT.fillna('none', inplace=True)"
   ]
  },
  {
   "cell_type": "code",
   "execution_count": 16,
   "id": "tested-conspiracy",
   "metadata": {},
   "outputs": [],
   "source": [
    "data.UCR_PART.fillna('none', inplace=True)"
   ]
  },
  {
   "cell_type": "markdown",
   "id": "veterinary-scope",
   "metadata": {},
   "source": [
    "Get Dummies\n",
    "ok , before we run the clustering model , we've to convert all categorical values into numerical dummies .\n",
    "\n",
    "we have here five categorical features which are :\n",
    "\n",
    "Offense Groud\n",
    "\n",
    "Offense Description\n",
    "\n",
    "District\n",
    "\n",
    "Day of week\n",
    "\n",
    "UCR Part\n",
    "\n",
    "so we'll use LabelEncoder model from Sklearn to do it quickly , then drop the original feature ."
   ]
  },
  {
   "cell_type": "code",
   "execution_count": 17,
   "id": "little-rolling",
   "metadata": {},
   "outputs": [
    {
     "data": {
      "text/html": [
       "<div>\n",
       "<style scoped>\n",
       "    .dataframe tbody tr th:only-of-type {\n",
       "        vertical-align: middle;\n",
       "    }\n",
       "\n",
       "    .dataframe tbody tr th {\n",
       "        vertical-align: top;\n",
       "    }\n",
       "\n",
       "    .dataframe thead th {\n",
       "        text-align: right;\n",
       "    }\n",
       "</style>\n",
       "<table border=\"1\" class=\"dataframe\">\n",
       "  <thead>\n",
       "    <tr style=\"text-align: right;\">\n",
       "      <th></th>\n",
       "      <th>OFFENSE_CODE_GROUP</th>\n",
       "      <th>OFFENSE_DESCRIPTION</th>\n",
       "      <th>DISTRICT</th>\n",
       "      <th>YEAR</th>\n",
       "      <th>MONTH</th>\n",
       "      <th>DAY_OF_WEEK</th>\n",
       "      <th>HOUR</th>\n",
       "      <th>UCR_PART</th>\n",
       "      <th>Lat code</th>\n",
       "      <th>Long code</th>\n",
       "    </tr>\n",
       "  </thead>\n",
       "  <tbody>\n",
       "    <tr>\n",
       "      <th>0</th>\n",
       "      <td>Larceny</td>\n",
       "      <td>LARCENY ALL OTHERS</td>\n",
       "      <td>D14</td>\n",
       "      <td>2018</td>\n",
       "      <td>9</td>\n",
       "      <td>Sunday</td>\n",
       "      <td>13</td>\n",
       "      <td>Part One</td>\n",
       "      <td>42.36</td>\n",
       "      <td>-71.14</td>\n",
       "    </tr>\n",
       "    <tr>\n",
       "      <th>1</th>\n",
       "      <td>Vandalism</td>\n",
       "      <td>VANDALISM</td>\n",
       "      <td>C11</td>\n",
       "      <td>2018</td>\n",
       "      <td>8</td>\n",
       "      <td>Tuesday</td>\n",
       "      <td>0</td>\n",
       "      <td>Part Two</td>\n",
       "      <td>42.31</td>\n",
       "      <td>-71.06</td>\n",
       "    </tr>\n",
       "    <tr>\n",
       "      <th>2</th>\n",
       "      <td>Towed</td>\n",
       "      <td>TOWED MOTOR VEHICLE</td>\n",
       "      <td>D4</td>\n",
       "      <td>2018</td>\n",
       "      <td>9</td>\n",
       "      <td>Monday</td>\n",
       "      <td>19</td>\n",
       "      <td>Part Three</td>\n",
       "      <td>42.35</td>\n",
       "      <td>-71.07</td>\n",
       "    </tr>\n",
       "    <tr>\n",
       "      <th>3</th>\n",
       "      <td>Investigate Property</td>\n",
       "      <td>INVESTIGATE PROPERTY</td>\n",
       "      <td>D4</td>\n",
       "      <td>2018</td>\n",
       "      <td>9</td>\n",
       "      <td>Monday</td>\n",
       "      <td>21</td>\n",
       "      <td>Part Three</td>\n",
       "      <td>42.33</td>\n",
       "      <td>-71.08</td>\n",
       "    </tr>\n",
       "    <tr>\n",
       "      <th>4</th>\n",
       "      <td>Investigate Property</td>\n",
       "      <td>INVESTIGATE PROPERTY</td>\n",
       "      <td>B3</td>\n",
       "      <td>2018</td>\n",
       "      <td>9</td>\n",
       "      <td>Monday</td>\n",
       "      <td>21</td>\n",
       "      <td>Part Three</td>\n",
       "      <td>42.28</td>\n",
       "      <td>-71.09</td>\n",
       "    </tr>\n",
       "  </tbody>\n",
       "</table>\n",
       "</div>"
      ],
      "text/plain": [
       "     OFFENSE_CODE_GROUP   OFFENSE_DESCRIPTION DISTRICT  YEAR  MONTH  \\\n",
       "0               Larceny    LARCENY ALL OTHERS      D14  2018      9   \n",
       "1             Vandalism             VANDALISM      C11  2018      8   \n",
       "2                 Towed   TOWED MOTOR VEHICLE       D4  2018      9   \n",
       "3  Investigate Property  INVESTIGATE PROPERTY       D4  2018      9   \n",
       "4  Investigate Property  INVESTIGATE PROPERTY       B3  2018      9   \n",
       "\n",
       "  DAY_OF_WEEK  HOUR    UCR_PART  Lat code  Long code  \n",
       "0      Sunday    13    Part One     42.36     -71.14  \n",
       "1     Tuesday     0    Part Two     42.31     -71.06  \n",
       "2      Monday    19  Part Three     42.35     -71.07  \n",
       "3      Monday    21  Part Three     42.33     -71.08  \n",
       "4      Monday    21  Part Three     42.28     -71.09  "
      ]
     },
     "execution_count": 17,
     "metadata": {},
     "output_type": "execute_result"
    }
   ],
   "source": [
    "data.head()"
   ]
  },
  {
   "cell_type": "code",
   "execution_count": 18,
   "id": "comfortable-missouri",
   "metadata": {},
   "outputs": [],
   "source": [
    "from sklearn.preprocessing import LabelEncoder\n",
    "enc  = LabelEncoder()\n",
    "enc.fit(data['OFFENSE_CODE_GROUP'])\n",
    "data['Offense Code'] = enc.transform(data['OFFENSE_CODE_GROUP'])\n",
    "data.drop(['OFFENSE_CODE_GROUP'],axis=1, inplace=True)"
   ]
  },
  {
   "cell_type": "code",
   "execution_count": 19,
   "id": "instrumental-duplicate",
   "metadata": {},
   "outputs": [],
   "source": [
    "enc  = LabelEncoder()\n",
    "enc.fit(data['OFFENSE_DESCRIPTION'])\n",
    "data['Offense Desc Code'] = enc.transform(data['OFFENSE_DESCRIPTION'])\n",
    "data.drop(['OFFENSE_DESCRIPTION'],axis=1, inplace=True)"
   ]
  },
  {
   "cell_type": "code",
   "execution_count": 20,
   "id": "selective-footwear",
   "metadata": {},
   "outputs": [],
   "source": [
    "enc  = LabelEncoder()\n",
    "enc.fit(data['DISTRICT'])\n",
    "data['District Code'] = enc.transform(data['DISTRICT'])\n",
    "data.drop(['DISTRICT'],axis=1, inplace=True)"
   ]
  },
  {
   "cell_type": "code",
   "execution_count": 21,
   "id": "fluid-connectivity",
   "metadata": {},
   "outputs": [],
   "source": [
    "enc  = LabelEncoder()\n",
    "enc.fit(data['DAY_OF_WEEK'])\n",
    "data['Day Code'] = enc.transform(data['DAY_OF_WEEK'])\n",
    "data.drop(['DAY_OF_WEEK'],axis=1, inplace=True)"
   ]
  },
  {
   "cell_type": "code",
   "execution_count": 22,
   "id": "brown-trust",
   "metadata": {},
   "outputs": [
    {
     "data": {
      "text/html": [
       "<div>\n",
       "<style scoped>\n",
       "    .dataframe tbody tr th:only-of-type {\n",
       "        vertical-align: middle;\n",
       "    }\n",
       "\n",
       "    .dataframe tbody tr th {\n",
       "        vertical-align: top;\n",
       "    }\n",
       "\n",
       "    .dataframe thead th {\n",
       "        text-align: right;\n",
       "    }\n",
       "</style>\n",
       "<table border=\"1\" class=\"dataframe\">\n",
       "  <thead>\n",
       "    <tr style=\"text-align: right;\">\n",
       "      <th></th>\n",
       "      <th>YEAR</th>\n",
       "      <th>MONTH</th>\n",
       "      <th>HOUR</th>\n",
       "      <th>Lat code</th>\n",
       "      <th>Long code</th>\n",
       "      <th>Offense Code</th>\n",
       "      <th>Offense Desc Code</th>\n",
       "      <th>District Code</th>\n",
       "      <th>Day Code</th>\n",
       "      <th>UCR Code</th>\n",
       "    </tr>\n",
       "  </thead>\n",
       "  <tbody>\n",
       "    <tr>\n",
       "      <th>0</th>\n",
       "      <td>2018</td>\n",
       "      <td>9</td>\n",
       "      <td>13</td>\n",
       "      <td>42.36</td>\n",
       "      <td>-71.14</td>\n",
       "      <td>34</td>\n",
       "      <td>129</td>\n",
       "      <td>7</td>\n",
       "      <td>3</td>\n",
       "      <td>1</td>\n",
       "    </tr>\n",
       "    <tr>\n",
       "      <th>1</th>\n",
       "      <td>2018</td>\n",
       "      <td>8</td>\n",
       "      <td>0</td>\n",
       "      <td>42.31</td>\n",
       "      <td>-71.06</td>\n",
       "      <td>63</td>\n",
       "      <td>230</td>\n",
       "      <td>5</td>\n",
       "      <td>5</td>\n",
       "      <td>3</td>\n",
       "    </tr>\n",
       "    <tr>\n",
       "      <th>2</th>\n",
       "      <td>2018</td>\n",
       "      <td>9</td>\n",
       "      <td>19</td>\n",
       "      <td>42.35</td>\n",
       "      <td>-71.07</td>\n",
       "      <td>62</td>\n",
       "      <td>222</td>\n",
       "      <td>8</td>\n",
       "      <td>1</td>\n",
       "      <td>2</td>\n",
       "    </tr>\n",
       "    <tr>\n",
       "      <th>3</th>\n",
       "      <td>2018</td>\n",
       "      <td>9</td>\n",
       "      <td>21</td>\n",
       "      <td>42.33</td>\n",
       "      <td>-71.08</td>\n",
       "      <td>32</td>\n",
       "      <td>123</td>\n",
       "      <td>8</td>\n",
       "      <td>1</td>\n",
       "      <td>2</td>\n",
       "    </tr>\n",
       "    <tr>\n",
       "      <th>4</th>\n",
       "      <td>2018</td>\n",
       "      <td>9</td>\n",
       "      <td>21</td>\n",
       "      <td>42.28</td>\n",
       "      <td>-71.09</td>\n",
       "      <td>32</td>\n",
       "      <td>123</td>\n",
       "      <td>4</td>\n",
       "      <td>1</td>\n",
       "      <td>2</td>\n",
       "    </tr>\n",
       "  </tbody>\n",
       "</table>\n",
       "</div>"
      ],
      "text/plain": [
       "   YEAR  MONTH  HOUR  Lat code  Long code  Offense Code  Offense Desc Code  \\\n",
       "0  2018      9    13     42.36     -71.14            34                129   \n",
       "1  2018      8     0     42.31     -71.06            63                230   \n",
       "2  2018      9    19     42.35     -71.07            62                222   \n",
       "3  2018      9    21     42.33     -71.08            32                123   \n",
       "4  2018      9    21     42.28     -71.09            32                123   \n",
       "\n",
       "   District Code  Day Code  UCR Code  \n",
       "0              7         3         1  \n",
       "1              5         5         3  \n",
       "2              8         1         2  \n",
       "3              8         1         2  \n",
       "4              4         1         2  "
      ]
     },
     "execution_count": 22,
     "metadata": {},
     "output_type": "execute_result"
    }
   ],
   "source": [
    "enc  = LabelEncoder()\n",
    "enc.fit(data['UCR_PART'])\n",
    "data['UCR Code'] = enc.transform(data['UCR_PART'])\n",
    "data.drop(['UCR_PART'],axis=1, inplace=True)\n",
    "data.head()"
   ]
  },
  {
   "cell_type": "code",
   "execution_count": 23,
   "id": "grateful-variety",
   "metadata": {},
   "outputs": [
    {
     "data": {
      "text/plain": [
       "<AxesSubplot:>"
      ]
     },
     "execution_count": 23,
     "metadata": {},
     "output_type": "execute_result"
    },
    {
     "data": {
      "image/png": "[encoded data removed]",
      "text/plain": [
       "<Figure size 1440x648 with 2 Axes>"
      ]
     },
     "metadata": {
      "needs_background": "light"
     },
     "output_type": "display_data"
    }
   ],
   "source": [
    "import matplotlib.pyplot as plt\n",
    "plt.subplots(figsize=(20, 9))\n",
    "sns.heatmap(data.corr(),annot=True)"
   ]
  },
  {
   "cell_type": "code",
   "execution_count": 24,
   "id": "legendary-treasure",
   "metadata": {},
   "outputs": [],
   "source": [
    "data['Lat code'] = data['Lat code'].fillna(data['Lat code'].mean())\n",
    "data['Long code'] = data['Long code'].fillna(data['Long code'].mean())"
   ]
  },
  {
   "cell_type": "code",
   "execution_count": 25,
   "id": "humanitarian-blogger",
   "metadata": {},
   "outputs": [
    {
     "data": {
      "text/plain": [
       "YEAR                 0\n",
       "MONTH                0\n",
       "HOUR                 0\n",
       "Lat code             0\n",
       "Long code            0\n",
       "Offense Code         0\n",
       "Offense Desc Code    0\n",
       "District Code        0\n",
       "Day Code             0\n",
       "UCR Code             0\n",
       "dtype: int64"
      ]
     },
     "execution_count": 25,
     "metadata": {},
     "output_type": "execute_result"
    }
   ],
   "source": [
    "data.isnull().sum()"
   ]
  },
  {
   "cell_type": "code",
   "execution_count": 26,
   "id": "immediate-impression",
   "metadata": {},
   "outputs": [],
   "source": [
    "from sklearn.model_selection import train_test_split"
   ]
  },
  {
   "cell_type": "code",
   "execution_count": 27,
   "id": "freelance-particular",
   "metadata": {},
   "outputs": [],
   "source": [
    "train , test = train_test_split(data,test_size = 0.3,random_state= 0)"
   ]
  },
  {
   "cell_type": "code",
   "execution_count": 28,
   "id": "broad-craft",
   "metadata": {},
   "outputs": [
    {
     "name": "stdout",
     "output_type": "stream",
     "text": [
      "Train Shape is (223351, 10)\n",
      "Test Shape is (95722, 10)\n"
     ]
    }
   ],
   "source": [
    "print('Train Shape is {}'.format(train.shape))\n",
    "print('Test Shape is {}'.format(test.shape))"
   ]
  },
  {
   "cell_type": "markdown",
   "id": "coastal-publisher",
   "metadata": {},
   "source": [
    "lets rescale the data "
   ]
  },
  {
   "cell_type": "code",
   "execution_count": 29,
   "id": "indonesian-homeless",
   "metadata": {},
   "outputs": [],
   "source": [
    "from sklearn.preprocessing import StandardScaler\n"
   ]
  },
  {
   "cell_type": "code",
   "execution_count": 30,
   "id": "practical-kinase",
   "metadata": {},
   "outputs": [],
   "source": [
    "stand=StandardScaler()\n",
    "train=stand.fit_transform(train)"
   ]
  },
  {
   "cell_type": "markdown",
   "id": "insured-wallet",
   "metadata": {},
   "source": [
    "# KNN model for unsupervised training"
   ]
  },
  {
   "cell_type": "code",
   "execution_count": 31,
   "id": "complete-harvest",
   "metadata": {},
   "outputs": [
    {
     "data": {
      "text/plain": [
       "NearestNeighbors(n_neighbors=4)"
      ]
     },
     "execution_count": 31,
     "metadata": {},
     "output_type": "execute_result"
    }
   ],
   "source": [
    "NearestNeighborsModel = NearestNeighbors(n_neighbors=4,radius=1.0,algorithm='auto')#it can be:ball_tree,kd_tree,brute\n",
    "NearestNeighborsModel.fit(train)"
   ]
  },
  {
   "cell_type": "code",
   "execution_count": 39,
   "id": "civil-middle",
   "metadata": {},
   "outputs": [
    {
     "name": "stdout",
     "output_type": "stream",
     "text": [
      "NearestNeighborsModel Train kneighbors are :  (array([[0.        , 0.30559881, 0.32322771, 0.32438135],\n",
      "       [0.        , 0.30540144, 0.32329496, 0.44066252],\n",
      "       [0.        , 0.25156895, 0.25504618, 0.30540144],\n",
      "       [0.        , 0.38781229, 0.38781229, 0.44059528],\n",
      "       [0.        , 0.30576972, 0.32193806, 0.4042768 ]]), array([[     0, 145563, 142893, 200880],\n",
      "       [     1, 197500, 122945,  71723],\n",
      "       [     2, 126177,  68706, 179079],\n",
      "       [     3, 203894,  27749,  43572],\n",
      "       [     4, 193713,  98084,  25759]], dtype=int64))\n",
      "----------------------------------------------------\n",
      "NearestNeighborsModel Train radius kneighbors are :  (array([array([0.73415411, 0.75617463, 0.54503222, 0.97066111, 0.60041047,\n",
      "       0.96971255, 0.91761167, 0.58902809, 0.58730601, 0.        ,\n",
      "       0.81551282, 0.98390671, 0.608491  , 0.45135328, 0.91764509,\n",
      "       0.57903104, 0.54496773, 0.49203162, 0.47649207, 0.68485632,\n",
      "       0.94088936, 0.88570874, 0.86845891, 0.87852786, 0.32438135,\n",
      "       0.49205892, 0.86408664, 0.58561871, 0.57920062, 0.51908938,\n",
      "       0.30559881, 0.69108689, 0.77513755, 0.96248558, 0.96248558,\n",
      "       0.49217796, 0.84824108, 0.98272159, 0.66896249, 0.32322771,\n",
      "       0.65167419, 0.57545398, 0.97538777])], dtype=object), array([array([103900, 196671,   8951, 132930,  52059,  56400, 206595, 214245,\n",
      "       162540,      0, 184895, 170765, 191300, 191795, 161134,  81312,\n",
      "       139338, 196614,  55030,  76854, 173641,  68292, 208127, 118914,\n",
      "       200880, 189306,   6090, 216574, 180790,  75689, 145563,  37672,\n",
      "       120283, 211116,  73214,  62611, 154415, 108700,  12376, 142893,\n",
      "       157972,  25681, 219273], dtype=int64)], dtype=object))\n",
      "----------------------------------------------------\n",
      "NearestNeighborsModel Test kneighbors are :  (array([[0.0157643 , 0.19910908, 0.33276663, 0.44087721],\n",
      "       [0.36482802, 0.45696511, 0.45923353, 0.45941208],\n",
      "       [0.0773636 , 0.17289404, 0.31425817, 0.32624307],\n",
      "       [0.32100487, 0.34425173, 0.35051237, 0.36397047],\n",
      "       [0.32067622, 0.35813392, 0.38785404, 0.38803697]]), array([[ 19692,   4421, 145041, 119255],\n",
      "       [148209,  96242,  96291,  56685],\n",
      "       [137719,  62674,  18083,  32878],\n",
      "       [223217,  70878,  64656, 167840],\n",
      "       [ 82120,  20119, 103775, 124876]], dtype=int64))\n",
      "----------------------------------------------------\n",
      "NearestNeighborsModel Test  radius kneighbors are :  (array([array([0.49129488, 0.92953516, 0.44087721, 0.44087721, 0.77690904,\n",
      "       0.74981262, 0.7499627 , 0.68496931, 0.53429599, 0.7499627 ,\n",
      "       0.98280034, 0.5147943 , 0.19910908, 0.938105  , 0.82359866,\n",
      "       0.88729673, 0.80814539, 0.84625552, 0.93468558, 0.96977389,\n",
      "       0.88677812, 0.65420889, 0.7220015 , 0.49558319, 0.97930363,\n",
      "       0.70478543, 0.84625552, 0.47664507, 0.6312754 , 0.0157643 ,\n",
      "       0.6312754 , 0.95161399, 0.93626956, 0.52721551, 0.63132189,\n",
      "       0.53070313, 0.6006277 , 0.90974493, 0.44411863, 0.81606463,\n",
      "       0.94884784, 0.7561769 , 0.76151588, 0.92580494, 0.68849473,\n",
      "       0.6992844 , 0.69391045, 0.69448309, 0.68343117, 0.99453623,\n",
      "       0.71222653, 0.68352875, 0.89995676, 0.94299761, 0.80957647,\n",
      "       0.44544729, 0.78101301, 0.61428285, 0.55620092, 0.91981704,\n",
      "       0.75504697, 0.99013724, 0.99885419, 0.65439724, 0.76430995,\n",
      "       0.80174755, 0.99016138, 0.98970664, 0.73720692, 0.80710693,\n",
      "       0.62655577, 0.69877006, 0.33276663, 0.65868326, 0.74253074,\n",
      "       0.5488684 , 0.93475058, 0.98333587, 0.6900769 , 0.62015317,\n",
      "       0.79383422, 0.6621121 , 0.52127956, 0.67042107, 0.99991877,\n",
      "       0.71175233, 0.71175233, 0.97206792, 0.99997735, 0.85516476,\n",
      "       0.9877712 , 0.98811294, 0.45200144, 0.86539814, 0.58754535,\n",
      "       0.86694836, 0.68160599, 0.92199426, 0.72985544, 0.73514352,\n",
      "       0.86972002, 0.4432586 , 0.90073114, 0.90508455, 0.88865185,\n",
      "       0.54548825, 0.57897846, 0.7386428 , 0.94083671, 0.58420309,\n",
      "       0.98859249, 0.98380413, 0.98349181, 0.70970738, 0.93386621,\n",
      "       0.90505016, 0.85770364, 0.73537361, 0.94120997, 0.95518421,\n",
      "       0.8706582 , 0.75984443, 0.89350283, 0.86898945, 0.48426026,\n",
      "       0.87891003, 0.66398728, 0.86884164, 0.72816244, 0.7207321 ,\n",
      "       0.97888893, 0.89393185])], dtype=object), array([array([ 21661, 120827,  54306, 119255, 107690, 153364,  26113,  23489,\n",
      "        68421, 210970,   9529, 222796,   4421, 124129,  36346,  25035,\n",
      "        38706, 165720, 102996, 138744,  17857,  67338, 171911,   8655,\n",
      "        76008,  44412, 101050,  59127, 184689,  19692,  21504, 192944,\n",
      "        51067, 126372, 151997,  95830,  66014,  79117, 194013, 216724,\n",
      "       195087,  34501, 153928,  82371, 207456,  67007,  81020,  33403,\n",
      "       175496,  84287, 212391,  95235, 214587,   8571,  99776,  17832,\n",
      "       188102, 136784, 103790, 156418, 128613,  20698,  84947, 121086,\n",
      "        52451, 137607, 166012, 124987, 120263,  69480, 166934, 166413,\n",
      "       145041, 120071, 133245,  74074,  94249, 180909, 124323, 151364,\n",
      "       198557, 189794,  36629,  86158, 158334,  24190,  35949, 118073,\n",
      "        63911,  96092,  34631,  59372, 170967, 209100, 219961,  65128,\n",
      "       204533, 222866, 170534,  73414, 164339,  13750,  87530, 176588,\n",
      "         7474, 163491, 177923,   7080, 221214, 217647, 171502, 178243,\n",
      "        81513, 216186,  56374, 196605,   8548, 121700,  87501,  51242,\n",
      "        28391, 176716, 203659, 150387,  77345, 213556, 205099, 218232,\n",
      "       174048,  98975, 175552, 138957], dtype=int64)], dtype=object))\n",
      "----------------------------------------------------\n"
     ]
    }
   ],
   "source": [
    "print('NearestNeighborsModel Train kneighbors are : ' , NearestNeighborsModel.kneighbors(train[: 5]))\n",
    "print('----------------------------------------------------')\n",
    "print('NearestNeighborsModel Train radius kneighbors are : ' , NearestNeighborsModel.radius_neighbors(train[:  1]))\n",
    "print('----------------------------------------------------')\n",
    "print('NearestNeighborsModel Test kneighbors are : ' , NearestNeighborsModel.kneighbors(test[: 5]))\n",
    "print('----------------------------------------------------')\n",
    "print('NearestNeighborsModel Test  radius kneighbors are : ' , NearestNeighborsModel.radius_neighbors(test[:  1]))\n",
    "print('----------------------------------------------------')"
   ]
  },
  {
   "cell_type": "code",
   "execution_count": null,
   "id": "advanced-devices",
   "metadata": {},
   "outputs": [],
   "source": []
  }
 ],
 "metadata": {
  "kernelspec": {
   "display_name": "Python 3",
   "language": "python",
   "name": "python3"
  },
  "language_info": {
   "codemirror_mode": {
    "name": "ipython",
    "version": 3
   },
   "file_extension": ".py",
   "mimetype": "text/x-python",
   "name": "python",
   "nbconvert_exporter": "python",
   "pygments_lexer": "ipython3",
   "version": "3.6.4"
  }
 },
 "nbformat": 4,
 "nbformat_minor": 5
}
